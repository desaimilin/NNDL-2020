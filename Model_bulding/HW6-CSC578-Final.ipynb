{
 "cells": [
  {
   "cell_type": "markdown",
   "metadata": {},
   "source": [
    "#Milin Desai\n",
    "#CSC 578 HW-6 Fall 2020"
   ]
  },
  {
   "cell_type": "code",
   "execution_count": 1,
   "metadata": {},
   "outputs": [
    {
     "name": "stdout",
     "output_type": "stream",
     "text": [
      "Requirement already satisfied: tensorflow in /opt/anaconda3/lib/python3.8/site-packages (2.3.1)\n",
      "Requirement already satisfied: wrapt>=1.11.1 in /opt/anaconda3/lib/python3.8/site-packages (from tensorflow) (1.12.1)\n",
      "Requirement already satisfied: h5py<2.11.0,>=2.10.0 in /opt/anaconda3/lib/python3.8/site-packages (from tensorflow) (2.10.0)\n",
      "Requirement already satisfied: absl-py>=0.7.0 in /opt/anaconda3/lib/python3.8/site-packages (from tensorflow) (0.11.0)\n",
      "Requirement already satisfied: google-pasta>=0.1.8 in /opt/anaconda3/lib/python3.8/site-packages (from tensorflow) (0.2.0)\n",
      "Requirement already satisfied: numpy<1.19.0,>=1.16.0 in /opt/anaconda3/lib/python3.8/site-packages (from tensorflow) (1.18.5)\n",
      "Requirement already satisfied: gast==0.3.3 in /opt/anaconda3/lib/python3.8/site-packages (from tensorflow) (0.3.3)\n",
      "Requirement already satisfied: protobuf>=3.9.2 in /opt/anaconda3/lib/python3.8/site-packages (from tensorflow) (3.13.0)\n",
      "Requirement already satisfied: wheel>=0.26 in /opt/anaconda3/lib/python3.8/site-packages (from tensorflow) (0.35.1)\n",
      "Requirement already satisfied: six>=1.12.0 in /opt/anaconda3/lib/python3.8/site-packages (from tensorflow) (1.15.0)\n",
      "Requirement already satisfied: tensorboard<3,>=2.3.0 in /opt/anaconda3/lib/python3.8/site-packages (from tensorflow) (2.3.0)\n",
      "Requirement already satisfied: grpcio>=1.8.6 in /opt/anaconda3/lib/python3.8/site-packages (from tensorflow) (1.32.0)\n",
      "Requirement already satisfied: opt-einsum>=2.3.2 in /opt/anaconda3/lib/python3.8/site-packages (from tensorflow) (3.3.0)\n",
      "Requirement already satisfied: termcolor>=1.1.0 in /opt/anaconda3/lib/python3.8/site-packages (from tensorflow) (1.1.0)\n",
      "Requirement already satisfied: astunparse==1.6.3 in /opt/anaconda3/lib/python3.8/site-packages (from tensorflow) (1.6.3)\n",
      "Requirement already satisfied: tensorflow-estimator<2.4.0,>=2.3.0 in /opt/anaconda3/lib/python3.8/site-packages (from tensorflow) (2.3.0)\n",
      "Requirement already satisfied: keras-preprocessing<1.2,>=1.1.1 in /opt/anaconda3/lib/python3.8/site-packages (from tensorflow) (1.1.2)\n",
      "Requirement already satisfied: setuptools in /opt/anaconda3/lib/python3.8/site-packages (from protobuf>=3.9.2->tensorflow) (49.2.0.post20200714)\n",
      "Requirement already satisfied: markdown>=2.6.8 in /opt/anaconda3/lib/python3.8/site-packages (from tensorboard<3,>=2.3.0->tensorflow) (3.3.3)\n",
      "Requirement already satisfied: tensorboard-plugin-wit>=1.6.0 in /opt/anaconda3/lib/python3.8/site-packages (from tensorboard<3,>=2.3.0->tensorflow) (1.7.0)\n",
      "Requirement already satisfied: google-auth<2,>=1.6.3 in /opt/anaconda3/lib/python3.8/site-packages (from tensorboard<3,>=2.3.0->tensorflow) (1.23.0)\n",
      "Requirement already satisfied: requests<3,>=2.21.0 in /opt/anaconda3/lib/python3.8/site-packages (from tensorboard<3,>=2.3.0->tensorflow) (2.24.0)\n",
      "Requirement already satisfied: werkzeug>=0.11.15 in /opt/anaconda3/lib/python3.8/site-packages (from tensorboard<3,>=2.3.0->tensorflow) (1.0.1)\n",
      "Requirement already satisfied: google-auth-oauthlib<0.5,>=0.4.1 in /opt/anaconda3/lib/python3.8/site-packages (from tensorboard<3,>=2.3.0->tensorflow) (0.4.2)\n",
      "Requirement already satisfied: rsa<5,>=3.1.4; python_version >= \"3.5\" in /opt/anaconda3/lib/python3.8/site-packages (from google-auth<2,>=1.6.3->tensorboard<3,>=2.3.0->tensorflow) (4.6)\n",
      "Requirement already satisfied: cachetools<5.0,>=2.0.0 in /opt/anaconda3/lib/python3.8/site-packages (from google-auth<2,>=1.6.3->tensorboard<3,>=2.3.0->tensorflow) (4.1.1)\n",
      "Requirement already satisfied: pyasn1-modules>=0.2.1 in /opt/anaconda3/lib/python3.8/site-packages (from google-auth<2,>=1.6.3->tensorboard<3,>=2.3.0->tensorflow) (0.2.8)\n",
      "Requirement already satisfied: urllib3!=1.25.0,!=1.25.1,<1.26,>=1.21.1 in /opt/anaconda3/lib/python3.8/site-packages (from requests<3,>=2.21.0->tensorboard<3,>=2.3.0->tensorflow) (1.25.9)\n",
      "Requirement already satisfied: certifi>=2017.4.17 in /opt/anaconda3/lib/python3.8/site-packages (from requests<3,>=2.21.0->tensorboard<3,>=2.3.0->tensorflow) (2020.6.20)\n",
      "Requirement already satisfied: idna<3,>=2.5 in /opt/anaconda3/lib/python3.8/site-packages (from requests<3,>=2.21.0->tensorboard<3,>=2.3.0->tensorflow) (2.10)\n",
      "Requirement already satisfied: chardet<4,>=3.0.2 in /opt/anaconda3/lib/python3.8/site-packages (from requests<3,>=2.21.0->tensorboard<3,>=2.3.0->tensorflow) (3.0.4)\n",
      "Requirement already satisfied: requests-oauthlib>=0.7.0 in /opt/anaconda3/lib/python3.8/site-packages (from google-auth-oauthlib<0.5,>=0.4.1->tensorboard<3,>=2.3.0->tensorflow) (1.3.0)\n",
      "Requirement already satisfied: pyasn1>=0.1.3 in /opt/anaconda3/lib/python3.8/site-packages (from rsa<5,>=3.1.4; python_version >= \"3.5\"->google-auth<2,>=1.6.3->tensorboard<3,>=2.3.0->tensorflow) (0.4.8)\n",
      "Requirement already satisfied: oauthlib>=3.0.0 in /opt/anaconda3/lib/python3.8/site-packages (from requests-oauthlib>=0.7.0->google-auth-oauthlib<0.5,>=0.4.1->tensorboard<3,>=2.3.0->tensorflow) (3.1.0)\n",
      "Note: you may need to restart the kernel to use updated packages.\n"
     ]
    }
   ],
   "source": [
    "pip install tensorflow"
   ]
  },
  {
   "cell_type": "code",
   "execution_count": 83,
   "metadata": {},
   "outputs": [
    {
     "name": "stdout",
     "output_type": "stream",
     "text": [
      "2.5.0-dev20201107\n"
     ]
    }
   ],
   "source": [
    "import matplotlib.pyplot as plt\n",
    "\n",
    "import tensorflow as tf\n",
    "import numpy as np\n",
    "import pandas as pd\n",
    "print(tf.__version__) # check the TF version!"
   ]
  },
  {
   "cell_type": "code",
   "execution_count": 3,
   "metadata": {},
   "outputs": [],
   "source": [
    "## For TF version 2 (just one line)\n",
    "from tensorflow.keras import datasets, layers, models\n",
    "\n",
    "## For TF version 1 (need both lines)\n",
    "#from tensorflow import keras\n",
    "#from keras import datasets, layers, models"
   ]
  },
  {
   "cell_type": "code",
   "execution_count": 4,
   "metadata": {},
   "outputs": [],
   "source": [
    "# Download the data from the repository site.\n",
    "(train_all_images, train_all_labels), (test_images, test_labels) = datasets.cifar10.load_data()"
   ]
  },
  {
   "cell_type": "code",
   "execution_count": 5,
   "metadata": {},
   "outputs": [],
   "source": [
    "# !! DO NOT REMOVE THIS LINE !!\n",
    "# Delete test_labels (by making it an empty list) so that we don't accidentally\n",
    "# use it in the code.\n",
    "test_labels = []\n",
    "\n",
    "# Then split the training set ('train_all') into two subsets: train and \n",
    "# validation.  After that, we have 3 subsets: train, validation and test.\n",
    "\n",
    "from sklearn.model_selection import train_test_split\n",
    "\n",
    "# 80% train, 20% validation, and by using stratefied sampling.  \n",
    "train_images, valid_images, train_labels, valid_labels \\\n",
    "  = train_test_split(train_all_images, train_all_labels,\n",
    "                     stratify=train_all_labels, test_size=0.2)"
   ]
  },
  {
   "cell_type": "code",
   "execution_count": 6,
   "metadata": {},
   "outputs": [],
   "source": [
    "train_images, valid_images, test_images \\\n",
    "  = train_images / 255.0, valid_images / 255.0, test_images / 255.0"
   ]
  },
  {
   "cell_type": "code",
   "execution_count": 7,
   "metadata": {},
   "outputs": [
    {
     "data": {
      "text/plain": [
       "array([[1],\n",
       "       [1],\n",
       "       [8],\n",
       "       ...,\n",
       "       [1],\n",
       "       [5],\n",
       "       [8]], dtype=uint8)"
      ]
     },
     "execution_count": 7,
     "metadata": {},
     "output_type": "execute_result"
    }
   ],
   "source": [
    "train_labels"
   ]
  },
  {
   "cell_type": "code",
   "execution_count": 8,
   "metadata": {},
   "outputs": [
    {
     "data": {
      "text/plain": [
       "array([[5],\n",
       "       [1],\n",
       "       [0],\n",
       "       ...,\n",
       "       [3],\n",
       "       [1],\n",
       "       [5]], dtype=uint8)"
      ]
     },
     "execution_count": 8,
     "metadata": {},
     "output_type": "execute_result"
    }
   ],
   "source": [
    "valid_labels"
   ]
  },
  {
   "cell_type": "markdown",
   "metadata": {},
   "source": [
    "Verify the data"
   ]
  },
  {
   "cell_type": "code",
   "execution_count": 10,
   "metadata": {},
   "outputs": [
    {
     "data": {
      "image/png": "[encoded data removed]",
      "text/plain": [
       "<Figure size 720x720 with 10 Axes>"
      ]
     },
     "metadata": {},
     "output_type": "display_data"
    }
   ],
   "source": [
    "class_names = ['airplane', 'automobile', 'bird', 'cat', 'deer',\n",
    "               'dog', 'frog', 'horse', 'ship', 'truck']\n",
    "\n",
    "plt.figure(figsize=(10,10))\n",
    "for i in range(10):\n",
    "    plt.subplot(5,5,i+1)\n",
    "    plt.xticks([])\n",
    "    plt.yticks([])\n",
    "    plt.grid(False)\n",
    "    plt.imshow(train_images[i], cmap=plt.cm.binary)\n",
    "    # The CIFAR labels happen to be arrays, \n",
    "    # which is why you need the extra index\n",
    "    plt.xlabel(class_names[train_labels[i][0]])\n",
    "plt.show()"
   ]
  },
  {
   "cell_type": "code",
   "execution_count": 12,
   "metadata": {},
   "outputs": [],
   "source": [
    "model = models.Sequential()\n",
    "model.add(layers.Conv2D(32, (3, 3), activation='relu', input_shape=(32, 32, 3)))\n",
    "model.add(layers.MaxPooling2D((2, 2)))\n",
    "model.add(layers.Conv2D(64, (3, 3), activation='relu'))\n",
    "model.add(layers.MaxPooling2D((2, 2)))\n",
    "model.add(layers.Conv2D(64, (3, 3), activation='relu'))\n",
    "model.add(layers.Flatten())\n",
    "model.add(layers.Dense(64, activation='relu'))\n",
    "model.add(layers.Dense(10, activation='softmax')) # 5/2020 nt: as noted above"
   ]
  },
  {
   "cell_type": "code",
   "execution_count": 13,
   "metadata": {},
   "outputs": [
    {
     "name": "stdout",
     "output_type": "stream",
     "text": [
      "Model: \"sequential_1\"\n",
      "_________________________________________________________________\n",
      "Layer (type)                 Output Shape              Param #   \n",
      "=================================================================\n",
      "conv2d_3 (Conv2D)            (None, 30, 30, 32)        896       \n",
      "_________________________________________________________________\n",
      "max_pooling2d_2 (MaxPooling2 (None, 15, 15, 32)        0         \n",
      "_________________________________________________________________\n",
      "conv2d_4 (Conv2D)            (None, 13, 13, 64)        18496     \n",
      "_________________________________________________________________\n",
      "max_pooling2d_3 (MaxPooling2 (None, 6, 6, 64)          0         \n",
      "_________________________________________________________________\n",
      "conv2d_5 (Conv2D)            (None, 4, 4, 64)          36928     \n",
      "_________________________________________________________________\n",
      "flatten_1 (Flatten)          (None, 1024)              0         \n",
      "_________________________________________________________________\n",
      "dense_2 (Dense)              (None, 64)                65600     \n",
      "_________________________________________________________________\n",
      "dense_3 (Dense)              (None, 10)                650       \n",
      "=================================================================\n",
      "Total params: 122,570\n",
      "Trainable params: 122,570\n",
      "Non-trainable params: 0\n",
      "_________________________________________________________________\n"
     ]
    }
   ],
   "source": [
    "model.summary()"
   ]
  },
  {
   "cell_type": "code",
   "execution_count": 14,
   "metadata": {},
   "outputs": [],
   "source": [
    "model.compile(optimizer='adam',\n",
    "              loss=tf.keras.losses.SparseCategoricalCrossentropy(from_logits=False), # For TF2\n",
    "              #loss='sparse_categorical_crossentropy', # For TF1\n",
    "              metrics=['accuracy'])\n"
   ]
  },
  {
   "cell_type": "code",
   "execution_count": 15,
   "metadata": {},
   "outputs": [
    {
     "name": "stdout",
     "output_type": "stream",
     "text": [
      "Epoch 1/10\n",
      "1250/1250 [==============================] - 18s 14ms/step - loss: 1.8135 - accuracy: 0.3310 - val_loss: 1.3273 - val_accuracy: 0.5170\n",
      "Epoch 2/10\n",
      "1250/1250 [==============================] - 17s 13ms/step - loss: 1.2690 - accuracy: 0.5476 - val_loss: 1.1549 - val_accuracy: 0.5864\n",
      "Epoch 3/10\n",
      "1250/1250 [==============================] - 16s 13ms/step - loss: 1.0924 - accuracy: 0.6103 - val_loss: 1.0711 - val_accuracy: 0.6202\n",
      "Epoch 4/10\n",
      "1250/1250 [==============================] - 17s 13ms/step - loss: 0.9817 - accuracy: 0.6529 - val_loss: 1.0885 - val_accuracy: 0.6163\n",
      "Epoch 5/10\n",
      "1250/1250 [==============================] - 17s 14ms/step - loss: 0.8932 - accuracy: 0.6869 - val_loss: 0.9470 - val_accuracy: 0.6668\n",
      "Epoch 6/10\n",
      "1250/1250 [==============================] - 17s 14ms/step - loss: 0.8371 - accuracy: 0.7073 - val_loss: 0.9254 - val_accuracy: 0.6822\n",
      "Epoch 7/10\n",
      "1250/1250 [==============================] - 17s 14ms/step - loss: 0.7729 - accuracy: 0.7266 - val_loss: 0.9167 - val_accuracy: 0.6834\n",
      "Epoch 8/10\n",
      "1250/1250 [==============================] - 17s 14ms/step - loss: 0.7312 - accuracy: 0.7455 - val_loss: 0.9083 - val_accuracy: 0.6903\n",
      "Epoch 9/10\n",
      "1250/1250 [==============================] - 17s 14ms/step - loss: 0.6758 - accuracy: 0.7617 - val_loss: 0.9570 - val_accuracy: 0.6780\n",
      "Epoch 10/10\n",
      "1250/1250 [==============================] - 17s 14ms/step - loss: 0.6349 - accuracy: 0.7769 - val_loss: 0.9459 - val_accuracy: 0.6869\n"
     ]
    }
   ],
   "source": [
    "history = model.fit(train_images, train_labels, epochs=10, \n",
    "                    validation_data=(valid_images, valid_labels)) # 5/2020 nt: use validation set"
   ]
  },
  {
   "cell_type": "code",
   "execution_count": 16,
   "metadata": {
    "scrolled": true
   },
   "outputs": [
    {
     "name": "stdout",
     "output_type": "stream",
     "text": [
      "313/313 - 0s - loss: 0.9459 - accuracy: 0.6869\n",
      "valid_accuracy=0.6869000196456909, valid_loss=0.9458946585655212\n"
     ]
    },
    {
     "data": {
      "image/png": "[encoded data removed]",
      "text/plain": [
       "<Figure size 432x288 with 1 Axes>"
      ]
     },
     "metadata": {
      "needs_background": "light"
     },
     "output_type": "display_data"
    }
   ],
   "source": [
    "plt.plot(history.history['accuracy'], label='train_accuracy') # For TF2\n",
    "#plt.plot(history.history['acc'], label='train_accuracy') # For TF1\n",
    "plt.plot(history.history['val_accuracy'], label = 'valid_accuracy') # For TF2\n",
    "#plt.plot(history.history['val_acc'], label = 'valid_accuracy') # For TF1\n",
    "plt.xlabel('Epoch')\n",
    "plt.ylabel('Accuracy')\n",
    "plt.ylim([0.5, 1])\n",
    "plt.legend(loc='lower right')\n",
    "\n",
    "# Evaluate the learned model with validation set\n",
    "valid_loss, valid_acc = model.evaluate(valid_images, valid_labels, verbose=2) # 5/2020 nt: use validation set\n",
    "print (\"valid_accuracy=%s, valid_loss=%s\" % (valid_acc, valid_loss))"
   ]
  },
  {
   "cell_type": "markdown",
   "metadata": {},
   "source": [
    "Prediction for test image"
   ]
  },
  {
   "cell_type": "code",
   "execution_count": 72,
   "metadata": {},
   "outputs": [
    {
     "data": {
      "text/plain": [
       "array([[1.45677652e-03, 2.16026692e-05, 2.22410318e-02, ...,\n",
       "        8.46674200e-03, 1.13546411e-02, 5.07477904e-04],\n",
       "       [1.46773040e-01, 4.63907085e-02, 1.05475905e-04, ...,\n",
       "        2.98203986e-06, 7.83873141e-01, 2.28488483e-02],\n",
       "       [7.00921863e-02, 8.02806485e-03, 1.02692407e-04, ...,\n",
       "        1.24921235e-05, 9.21029449e-01, 6.72958966e-04],\n",
       "       ...,\n",
       "       [3.22891610e-05, 4.20022218e-07, 6.68146238e-02, ...,\n",
       "        9.09984205e-03, 5.48002208e-06, 1.76766735e-05],\n",
       "       [3.75421703e-01, 3.92709553e-01, 4.39939871e-02, ...,\n",
       "        6.86857558e-04, 2.02767011e-02, 2.39570579e-03],\n",
       "       [3.24607208e-05, 2.12385166e-05, 8.92855023e-05, ...,\n",
       "        9.30286348e-01, 8.48671789e-07, 1.01510686e-05]], dtype=float32)"
      ]
     },
     "execution_count": 72,
     "metadata": {},
     "output_type": "execute_result"
    }
   ],
   "source": [
    "model.predict(test_images)"
   ]
  },
  {
   "cell_type": "markdown",
   "metadata": {},
   "source": [
    "## Best Model"
   ]
  },
  {
   "cell_type": "code",
   "execution_count": 127,
   "metadata": {},
   "outputs": [],
   "source": [
    "model = models.Sequential()\n",
    "model.add(layers.Conv2D(64, (3, 3), activation='relu', input_shape=(32, 32, 3)))\n",
    "model.add(layers.MaxPooling2D((2, 2)))\n",
    "model.add(layers.Conv2D(68, (3, 3), activation='relu'))\n",
    "model.add(layers.MaxPooling2D((2, 2)))\n",
    "model.add(layers.Conv2D(72, (3, 3), activation='relu'))\n",
    "model.add(layers.Flatten())\n",
    "model.add(layers.Dense(86, activation='relu'))\n",
    "model.add(layers.Dense(10, activation='softmax')) # 5/2020 nt: as noted above"
   ]
  },
  {
   "cell_type": "code",
   "execution_count": 128,
   "metadata": {},
   "outputs": [
    {
     "name": "stdout",
     "output_type": "stream",
     "text": [
      "Model: \"sequential_25\"\n",
      "_________________________________________________________________\n",
      "Layer (type)                 Output Shape              Param #   \n",
      "=================================================================\n",
      "conv2d_70 (Conv2D)           (None, 30, 30, 64)        1792      \n",
      "_________________________________________________________________\n",
      "max_pooling2d_43 (MaxPooling (None, 15, 15, 64)        0         \n",
      "_________________________________________________________________\n",
      "conv2d_71 (Conv2D)           (None, 13, 13, 68)        39236     \n",
      "_________________________________________________________________\n",
      "max_pooling2d_44 (MaxPooling (None, 6, 6, 68)          0         \n",
      "_________________________________________________________________\n",
      "conv2d_72 (Conv2D)           (None, 4, 4, 72)          44136     \n",
      "_________________________________________________________________\n",
      "flatten_24 (Flatten)         (None, 1152)              0         \n",
      "_________________________________________________________________\n",
      "dense_49 (Dense)             (None, 86)                99158     \n",
      "_________________________________________________________________\n",
      "dense_50 (Dense)             (None, 10)                870       \n",
      "=================================================================\n",
      "Total params: 185,192\n",
      "Trainable params: 185,192\n",
      "Non-trainable params: 0\n",
      "_________________________________________________________________\n"
     ]
    }
   ],
   "source": [
    "model.summary()"
   ]
  },
  {
   "cell_type": "code",
   "execution_count": 129,
   "metadata": {},
   "outputs": [],
   "source": [
    "model.compile(optimizer='adam',\n",
    "              loss=tf.keras.losses.SparseCategoricalCrossentropy(from_logits=False), # For TF2\n",
    "              #loss='sparse_categorical_crossentropy', # For TF1\n",
    "              metrics=['accuracy'])"
   ]
  },
  {
   "cell_type": "code",
   "execution_count": 130,
   "metadata": {},
   "outputs": [
    {
     "name": "stdout",
     "output_type": "stream",
     "text": [
      "Epoch 1/10\n",
      "1250/1250 [==============================] - 49s 39ms/step - loss: 1.8056 - accuracy: 0.3351 - val_loss: 1.2598 - val_accuracy: 0.5517\n",
      "Epoch 2/10\n",
      "1250/1250 [==============================] - 52s 42ms/step - loss: 1.2162 - accuracy: 0.5663 - val_loss: 1.0996 - val_accuracy: 0.6136\n",
      "Epoch 3/10\n",
      "1250/1250 [==============================] - 52s 42ms/step - loss: 1.0325 - accuracy: 0.6365 - val_loss: 0.9908 - val_accuracy: 0.6495\n",
      "Epoch 4/10\n",
      "1250/1250 [==============================] - 52s 42ms/step - loss: 0.9002 - accuracy: 0.6830 - val_loss: 0.9646 - val_accuracy: 0.6545\n",
      "Epoch 5/10\n",
      "1250/1250 [==============================] - 153s 122ms/step - loss: 0.8035 - accuracy: 0.7193 - val_loss: 0.8971 - val_accuracy: 0.6920\n",
      "Epoch 6/10\n",
      "1250/1250 [==============================] - 77s 62ms/step - loss: 0.7336 - accuracy: 0.7451 - val_loss: 0.9088 - val_accuracy: 0.6874\n",
      "Epoch 7/10\n",
      "1250/1250 [==============================] - 175s 140ms/step - loss: 0.6720 - accuracy: 0.7635 - val_loss: 0.9044 - val_accuracy: 0.6966\n",
      "Epoch 8/10\n",
      "1250/1250 [==============================] - 31s 25ms/step - loss: 0.6020 - accuracy: 0.7882 - val_loss: 0.9200 - val_accuracy: 0.6924\n",
      "Epoch 9/10\n",
      "1250/1250 [==============================] - 31s 25ms/step - loss: 0.5469 - accuracy: 0.8086 - val_loss: 0.9006 - val_accuracy: 0.7019\n",
      "Epoch 10/10\n",
      "1250/1250 [==============================] - 31s 25ms/step - loss: 0.5030 - accuracy: 0.8207 - val_loss: 0.9444 - val_accuracy: 0.7025\n"
     ]
    }
   ],
   "source": [
    "history = model.fit(train_images, train_labels, epochs=10, \n",
    "                    validation_data=(valid_images, valid_labels)) # 5/2020 nt: use validation set"
   ]
  },
  {
   "cell_type": "code",
   "execution_count": 142,
   "metadata": {},
   "outputs": [
    {
     "name": "stdout",
     "output_type": "stream",
     "text": [
      "313/313 - 1s - loss: 0.9444 - accuracy: 0.7025\n",
      "valid_accuracy=0.7024999856948853, valid_loss=0.9444282054901123\n"
     ]
    },
    {
     "data": {
      "image/png": "[encoded data removed]",
      "text/plain": [
       "<Figure size 432x288 with 1 Axes>"
      ]
     },
     "metadata": {
      "needs_background": "light"
     },
     "output_type": "display_data"
    }
   ],
   "source": [
    "plt.plot(history.history['accuracy'], label='train_accuracy') # For TF2\n",
    "plt.plot(history.history['val_accuracy'], label = 'valid_accuracy') # For TF2\n",
    "plt.xlabel('Epoch')\n",
    "plt.ylabel('Accuracy')\n",
    "plt.ylim([0.5, 1])\n",
    "plt.legend(loc='lower right')\n",
    "\n",
    "# Evaluate the learned model with validation set\n",
    "valid_loss, valid_acc = model.evaluate(valid_images, valid_labels, verbose=2) # 5/2020 nt: use validation set\n",
    "print (\"valid_accuracy=%s, valid_loss=%s\" % (valid_acc, valid_loss))"
   ]
  },
  {
   "cell_type": "code",
   "execution_count": 172,
   "metadata": {},
   "outputs": [
    {
     "data": {
      "text/plain": [
       "array([[4.89799399e-03, 1.05736498e-03, 2.23650411e-03, ...,\n",
       "        3.19682789e-04, 3.53670940e-02, 1.27430030e-04],\n",
       "       [1.16163086e-04, 2.73951236e-02, 6.23208294e-08, ...,\n",
       "        2.42601989e-12, 9.72482085e-01, 6.40616872e-06],\n",
       "       [1.12740276e-02, 4.49901167e-03, 1.15031097e-03, ...,\n",
       "        3.50565824e-05, 9.77765858e-01, 1.95683082e-04],\n",
       "       ...,\n",
       "       [6.84501128e-06, 1.35314252e-07, 2.32123621e-02, ...,\n",
       "        1.66411161e-01, 3.43470994e-08, 6.58245938e-07],\n",
       "       [2.69036680e-01, 3.82596284e-01, 1.77432187e-02, ...,\n",
       "        1.36802637e-03, 7.70396000e-05, 1.91325950e-03],\n",
       "       [4.87526641e-09, 7.39567227e-11, 1.35790719e-06, ...,\n",
       "        9.96001065e-01, 8.34722247e-09, 7.05456804e-10]], dtype=float32)"
      ]
     },
     "execution_count": 172,
     "metadata": {},
     "output_type": "execute_result"
    }
   ],
   "source": [
    "predictions = model.predict(test_images)\n",
    "predictions"
   ]
  },
  {
   "cell_type": "code",
   "execution_count": 174,
   "metadata": {
    "scrolled": true
   },
   "outputs": [
    {
     "data": {
      "text/html": [
       "<div>\n",
       "<style scoped>\n",
       "    .dataframe tbody tr th:only-of-type {\n",
       "        vertical-align: middle;\n",
       "    }\n",
       "\n",
       "    .dataframe tbody tr th {\n",
       "        vertical-align: top;\n",
       "    }\n",
       "\n",
       "    .dataframe thead th {\n",
       "        text-align: right;\n",
       "    }\n",
       "</style>\n",
       "<table border=\"1\" class=\"dataframe\">\n",
       "  <thead>\n",
       "    <tr style=\"text-align: right;\">\n",
       "      <th></th>\n",
       "      <th>0</th>\n",
       "      <th>1</th>\n",
       "      <th>2</th>\n",
       "      <th>3</th>\n",
       "      <th>4</th>\n",
       "      <th>5</th>\n",
       "      <th>6</th>\n",
       "      <th>7</th>\n",
       "      <th>8</th>\n",
       "      <th>9</th>\n",
       "    </tr>\n",
       "  </thead>\n",
       "  <tbody>\n",
       "    <tr>\n",
       "      <th>0</th>\n",
       "      <td>4.897994e-03</td>\n",
       "      <td>1.057365e-03</td>\n",
       "      <td>2.236504e-03</td>\n",
       "      <td>5.698541e-01</td>\n",
       "      <td>4.627747e-04</td>\n",
       "      <td>3.840747e-01</td>\n",
       "      <td>1.602344e-03</td>\n",
       "      <td>3.196828e-04</td>\n",
       "      <td>3.536709e-02</td>\n",
       "      <td>1.274300e-04</td>\n",
       "    </tr>\n",
       "    <tr>\n",
       "      <th>1</th>\n",
       "      <td>1.161631e-04</td>\n",
       "      <td>2.739512e-02</td>\n",
       "      <td>6.232083e-08</td>\n",
       "      <td>1.480060e-07</td>\n",
       "      <td>1.447191e-11</td>\n",
       "      <td>4.271060e-10</td>\n",
       "      <td>2.576615e-08</td>\n",
       "      <td>2.426020e-12</td>\n",
       "      <td>9.724821e-01</td>\n",
       "      <td>6.406169e-06</td>\n",
       "    </tr>\n",
       "    <tr>\n",
       "      <th>2</th>\n",
       "      <td>1.127403e-02</td>\n",
       "      <td>4.499012e-03</td>\n",
       "      <td>1.150311e-03</td>\n",
       "      <td>4.632011e-03</td>\n",
       "      <td>2.765703e-05</td>\n",
       "      <td>1.438121e-04</td>\n",
       "      <td>2.765844e-04</td>\n",
       "      <td>3.505658e-05</td>\n",
       "      <td>9.777659e-01</td>\n",
       "      <td>1.956831e-04</td>\n",
       "    </tr>\n",
       "    <tr>\n",
       "      <th>3</th>\n",
       "      <td>7.261493e-01</td>\n",
       "      <td>2.141108e-01</td>\n",
       "      <td>1.470418e-02</td>\n",
       "      <td>3.401969e-03</td>\n",
       "      <td>5.010717e-03</td>\n",
       "      <td>8.854559e-05</td>\n",
       "      <td>3.268446e-04</td>\n",
       "      <td>1.483388e-04</td>\n",
       "      <td>3.517409e-02</td>\n",
       "      <td>8.850502e-04</td>\n",
       "    </tr>\n",
       "    <tr>\n",
       "      <th>4</th>\n",
       "      <td>3.597304e-06</td>\n",
       "      <td>6.748491e-06</td>\n",
       "      <td>1.902485e-03</td>\n",
       "      <td>2.484634e-03</td>\n",
       "      <td>9.272414e-01</td>\n",
       "      <td>6.438396e-05</td>\n",
       "      <td>6.829509e-02</td>\n",
       "      <td>3.752644e-07</td>\n",
       "      <td>1.069311e-06</td>\n",
       "      <td>1.002247e-07</td>\n",
       "    </tr>\n",
       "    <tr>\n",
       "      <th>...</th>\n",
       "      <td>...</td>\n",
       "      <td>...</td>\n",
       "      <td>...</td>\n",
       "      <td>...</td>\n",
       "      <td>...</td>\n",
       "      <td>...</td>\n",
       "      <td>...</td>\n",
       "      <td>...</td>\n",
       "      <td>...</td>\n",
       "      <td>...</td>\n",
       "    </tr>\n",
       "    <tr>\n",
       "      <th>9995</th>\n",
       "      <td>3.744502e-03</td>\n",
       "      <td>1.680893e-08</td>\n",
       "      <td>5.380363e-05</td>\n",
       "      <td>6.120776e-01</td>\n",
       "      <td>7.851725e-03</td>\n",
       "      <td>3.380965e-01</td>\n",
       "      <td>2.126324e-07</td>\n",
       "      <td>4.815866e-05</td>\n",
       "      <td>3.812750e-02</td>\n",
       "      <td>1.156725e-09</td>\n",
       "    </tr>\n",
       "    <tr>\n",
       "      <th>9996</th>\n",
       "      <td>8.210340e-07</td>\n",
       "      <td>4.197476e-07</td>\n",
       "      <td>8.154624e-03</td>\n",
       "      <td>3.220185e-02</td>\n",
       "      <td>1.144817e-03</td>\n",
       "      <td>6.633890e-03</td>\n",
       "      <td>9.517751e-01</td>\n",
       "      <td>8.825958e-05</td>\n",
       "      <td>8.932456e-09</td>\n",
       "      <td>1.626723e-07</td>\n",
       "    </tr>\n",
       "    <tr>\n",
       "      <th>9997</th>\n",
       "      <td>6.845011e-06</td>\n",
       "      <td>1.353143e-07</td>\n",
       "      <td>2.321236e-02</td>\n",
       "      <td>5.499566e-04</td>\n",
       "      <td>1.449272e-04</td>\n",
       "      <td>8.096287e-01</td>\n",
       "      <td>4.528881e-05</td>\n",
       "      <td>1.664112e-01</td>\n",
       "      <td>3.434710e-08</td>\n",
       "      <td>6.582459e-07</td>\n",
       "    </tr>\n",
       "    <tr>\n",
       "      <th>9998</th>\n",
       "      <td>2.690367e-01</td>\n",
       "      <td>3.825963e-01</td>\n",
       "      <td>1.774322e-02</td>\n",
       "      <td>8.876783e-03</td>\n",
       "      <td>3.137799e-01</td>\n",
       "      <td>4.466350e-03</td>\n",
       "      <td>1.425373e-04</td>\n",
       "      <td>1.368026e-03</td>\n",
       "      <td>7.703960e-05</td>\n",
       "      <td>1.913260e-03</td>\n",
       "    </tr>\n",
       "    <tr>\n",
       "      <th>9999</th>\n",
       "      <td>4.875266e-09</td>\n",
       "      <td>7.395672e-11</td>\n",
       "      <td>1.357907e-06</td>\n",
       "      <td>2.420637e-09</td>\n",
       "      <td>3.995881e-03</td>\n",
       "      <td>1.605444e-06</td>\n",
       "      <td>2.915630e-11</td>\n",
       "      <td>9.960011e-01</td>\n",
       "      <td>8.347222e-09</td>\n",
       "      <td>7.054568e-10</td>\n",
       "    </tr>\n",
       "  </tbody>\n",
       "</table>\n",
       "<p>10000 rows × 10 columns</p>\n",
       "</div>"
      ],
      "text/plain": [
       "                 0             1             2             3             4  \\\n",
       "0     4.897994e-03  1.057365e-03  2.236504e-03  5.698541e-01  4.627747e-04   \n",
       "1     1.161631e-04  2.739512e-02  6.232083e-08  1.480060e-07  1.447191e-11   \n",
       "2     1.127403e-02  4.499012e-03  1.150311e-03  4.632011e-03  2.765703e-05   \n",
       "3     7.261493e-01  2.141108e-01  1.470418e-02  3.401969e-03  5.010717e-03   \n",
       "4     3.597304e-06  6.748491e-06  1.902485e-03  2.484634e-03  9.272414e-01   \n",
       "...            ...           ...           ...           ...           ...   \n",
       "9995  3.744502e-03  1.680893e-08  5.380363e-05  6.120776e-01  7.851725e-03   \n",
       "9996  8.210340e-07  4.197476e-07  8.154624e-03  3.220185e-02  1.144817e-03   \n",
       "9997  6.845011e-06  1.353143e-07  2.321236e-02  5.499566e-04  1.449272e-04   \n",
       "9998  2.690367e-01  3.825963e-01  1.774322e-02  8.876783e-03  3.137799e-01   \n",
       "9999  4.875266e-09  7.395672e-11  1.357907e-06  2.420637e-09  3.995881e-03   \n",
       "\n",
       "                 5             6             7             8             9  \n",
       "0     3.840747e-01  1.602344e-03  3.196828e-04  3.536709e-02  1.274300e-04  \n",
       "1     4.271060e-10  2.576615e-08  2.426020e-12  9.724821e-01  6.406169e-06  \n",
       "2     1.438121e-04  2.765844e-04  3.505658e-05  9.777659e-01  1.956831e-04  \n",
       "3     8.854559e-05  3.268446e-04  1.483388e-04  3.517409e-02  8.850502e-04  \n",
       "4     6.438396e-05  6.829509e-02  3.752644e-07  1.069311e-06  1.002247e-07  \n",
       "...            ...           ...           ...           ...           ...  \n",
       "9995  3.380965e-01  2.126324e-07  4.815866e-05  3.812750e-02  1.156725e-09  \n",
       "9996  6.633890e-03  9.517751e-01  8.825958e-05  8.932456e-09  1.626723e-07  \n",
       "9997  8.096287e-01  4.528881e-05  1.664112e-01  3.434710e-08  6.582459e-07  \n",
       "9998  4.466350e-03  1.425373e-04  1.368026e-03  7.703960e-05  1.913260e-03  \n",
       "9999  1.605444e-06  2.915630e-11  9.960011e-01  8.347222e-09  7.054568e-10  \n",
       "\n",
       "[10000 rows x 10 columns]"
      ]
     },
     "execution_count": 174,
     "metadata": {},
     "output_type": "execute_result"
    }
   ],
   "source": [
    "prediction = pd.DataFrame(predictions)\n",
    "prediction"
   ]
  },
  {
   "cell_type": "code",
   "execution_count": 178,
   "metadata": {},
   "outputs": [],
   "source": [
    "#id= id.append(i for i in range(1,10001)\n",
    "id = []\n",
    "for i in range (1,10001):\n",
    "    id.append(i)"
   ]
  },
  {
   "cell_type": "code",
   "execution_count": 179,
   "metadata": {},
   "outputs": [],
   "source": [
    "id = pd.DataFrame(id)"
   ]
  },
  {
   "cell_type": "code",
   "execution_count": 180,
   "metadata": {},
   "outputs": [],
   "source": [
    "idx = 0\n",
    "prediction.insert(loc=idx, column= 'id', value= id)"
   ]
  },
  {
   "cell_type": "code",
   "execution_count": 181,
   "metadata": {},
   "outputs": [
    {
     "data": {
      "text/html": [
       "<div>\n",
       "<style scoped>\n",
       "    .dataframe tbody tr th:only-of-type {\n",
       "        vertical-align: middle;\n",
       "    }\n",
       "\n",
       "    .dataframe tbody tr th {\n",
       "        vertical-align: top;\n",
       "    }\n",
       "\n",
       "    .dataframe thead th {\n",
       "        text-align: right;\n",
       "    }\n",
       "</style>\n",
       "<table border=\"1\" class=\"dataframe\">\n",
       "  <thead>\n",
       "    <tr style=\"text-align: right;\">\n",
       "      <th></th>\n",
       "      <th>id</th>\n",
       "      <th>cat0</th>\n",
       "      <th>cat1</th>\n",
       "      <th>cat2</th>\n",
       "      <th>cat3</th>\n",
       "      <th>cat4</th>\n",
       "      <th>cat5</th>\n",
       "      <th>cat6</th>\n",
       "      <th>cat7</th>\n",
       "      <th>cat8</th>\n",
       "      <th>cat9</th>\n",
       "    </tr>\n",
       "  </thead>\n",
       "  <tbody>\n",
       "    <tr>\n",
       "      <th>0</th>\n",
       "      <td>1</td>\n",
       "      <td>0.004898</td>\n",
       "      <td>0.001057</td>\n",
       "      <td>2.236504e-03</td>\n",
       "      <td>5.698541e-01</td>\n",
       "      <td>4.627747e-04</td>\n",
       "      <td>3.840747e-01</td>\n",
       "      <td>1.602344e-03</td>\n",
       "      <td>3.196828e-04</td>\n",
       "      <td>0.035367</td>\n",
       "      <td>1.274300e-04</td>\n",
       "    </tr>\n",
       "    <tr>\n",
       "      <th>1</th>\n",
       "      <td>2</td>\n",
       "      <td>0.000116</td>\n",
       "      <td>0.027395</td>\n",
       "      <td>6.232083e-08</td>\n",
       "      <td>1.480060e-07</td>\n",
       "      <td>1.447191e-11</td>\n",
       "      <td>4.271060e-10</td>\n",
       "      <td>2.576615e-08</td>\n",
       "      <td>2.426020e-12</td>\n",
       "      <td>0.972482</td>\n",
       "      <td>6.406169e-06</td>\n",
       "    </tr>\n",
       "    <tr>\n",
       "      <th>2</th>\n",
       "      <td>3</td>\n",
       "      <td>0.011274</td>\n",
       "      <td>0.004499</td>\n",
       "      <td>1.150311e-03</td>\n",
       "      <td>4.632011e-03</td>\n",
       "      <td>2.765703e-05</td>\n",
       "      <td>1.438121e-04</td>\n",
       "      <td>2.765844e-04</td>\n",
       "      <td>3.505658e-05</td>\n",
       "      <td>0.977766</td>\n",
       "      <td>1.956831e-04</td>\n",
       "    </tr>\n",
       "    <tr>\n",
       "      <th>3</th>\n",
       "      <td>4</td>\n",
       "      <td>0.726149</td>\n",
       "      <td>0.214111</td>\n",
       "      <td>1.470418e-02</td>\n",
       "      <td>3.401969e-03</td>\n",
       "      <td>5.010717e-03</td>\n",
       "      <td>8.854559e-05</td>\n",
       "      <td>3.268446e-04</td>\n",
       "      <td>1.483388e-04</td>\n",
       "      <td>0.035174</td>\n",
       "      <td>8.850502e-04</td>\n",
       "    </tr>\n",
       "    <tr>\n",
       "      <th>4</th>\n",
       "      <td>5</td>\n",
       "      <td>0.000004</td>\n",
       "      <td>0.000007</td>\n",
       "      <td>1.902485e-03</td>\n",
       "      <td>2.484634e-03</td>\n",
       "      <td>9.272414e-01</td>\n",
       "      <td>6.438396e-05</td>\n",
       "      <td>6.829509e-02</td>\n",
       "      <td>3.752644e-07</td>\n",
       "      <td>0.000001</td>\n",
       "      <td>1.002247e-07</td>\n",
       "    </tr>\n",
       "  </tbody>\n",
       "</table>\n",
       "</div>"
      ],
      "text/plain": [
       "   id      cat0      cat1          cat2          cat3          cat4  \\\n",
       "0   1  0.004898  0.001057  2.236504e-03  5.698541e-01  4.627747e-04   \n",
       "1   2  0.000116  0.027395  6.232083e-08  1.480060e-07  1.447191e-11   \n",
       "2   3  0.011274  0.004499  1.150311e-03  4.632011e-03  2.765703e-05   \n",
       "3   4  0.726149  0.214111  1.470418e-02  3.401969e-03  5.010717e-03   \n",
       "4   5  0.000004  0.000007  1.902485e-03  2.484634e-03  9.272414e-01   \n",
       "\n",
       "           cat5          cat6          cat7      cat8          cat9  \n",
       "0  3.840747e-01  1.602344e-03  3.196828e-04  0.035367  1.274300e-04  \n",
       "1  4.271060e-10  2.576615e-08  2.426020e-12  0.972482  6.406169e-06  \n",
       "2  1.438121e-04  2.765844e-04  3.505658e-05  0.977766  1.956831e-04  \n",
       "3  8.854559e-05  3.268446e-04  1.483388e-04  0.035174  8.850502e-04  \n",
       "4  6.438396e-05  6.829509e-02  3.752644e-07  0.000001  1.002247e-07  "
      ]
     },
     "execution_count": 181,
     "metadata": {},
     "output_type": "execute_result"
    }
   ],
   "source": [
    "prediction.columns = [\"id\", \"cat0\", \"cat1\", \"cat2\", \"cat3\", \"cat4\", \"cat5\", \"cat6\", \"cat7\", \"cat8\", \"cat9\"]\n",
    "prediction.to_csv('Predictions.csv')\n",
    "prediction.head(5)"
   ]
  },
  {
   "cell_type": "markdown",
   "metadata": {},
   "source": [
    "Model 2"
   ]
  },
  {
   "cell_type": "code",
   "execution_count": 35,
   "metadata": {},
   "outputs": [],
   "source": [
    "model = models.Sequential()\n",
    "model.add(layers.Conv2D(32, (3, 3), activation='relu', input_shape=(32, 32, 3)))\n",
    "model.add(layers.MaxPooling2D((2, 2)))\n",
    "model.add(layers.Conv2D(64, (3, 3), activation='softmax'))\n",
    "model.add(layers.MaxPooling2D((2, 2)))\n",
    "model.add(layers.Conv2D(64, (3, 3), activation='softmax'))\n",
    "model.add(layers.Flatten())\n",
    "model.add(layers.Dense(64, activation='softmax'))\n",
    "model.add(layers.Dense(10, activation='softmax')) # 5/2020 nt: as noted above"
   ]
  },
  {
   "cell_type": "code",
   "execution_count": 36,
   "metadata": {},
   "outputs": [
    {
     "name": "stdout",
     "output_type": "stream",
     "text": [
      "Model: \"sequential_6\"\n",
      "_________________________________________________________________\n",
      "Layer (type)                 Output Shape              Param #   \n",
      "=================================================================\n",
      "conv2d_18 (Conv2D)           (None, 30, 30, 32)        896       \n",
      "_________________________________________________________________\n",
      "max_pooling2d_12 (MaxPooling (None, 15, 15, 32)        0         \n",
      "_________________________________________________________________\n",
      "conv2d_19 (Conv2D)           (None, 13, 13, 64)        18496     \n",
      "_________________________________________________________________\n",
      "max_pooling2d_13 (MaxPooling (None, 6, 6, 64)          0         \n",
      "_________________________________________________________________\n",
      "conv2d_20 (Conv2D)           (None, 4, 4, 64)          36928     \n",
      "_________________________________________________________________\n",
      "flatten_6 (Flatten)          (None, 1024)              0         \n",
      "_________________________________________________________________\n",
      "dense_12 (Dense)             (None, 64)                65600     \n",
      "_________________________________________________________________\n",
      "dense_13 (Dense)             (None, 10)                650       \n",
      "=================================================================\n",
      "Total params: 122,570\n",
      "Trainable params: 122,570\n",
      "Non-trainable params: 0\n",
      "_________________________________________________________________\n"
     ]
    }
   ],
   "source": [
    "model.summary()"
   ]
  },
  {
   "cell_type": "code",
   "execution_count": 37,
   "metadata": {},
   "outputs": [],
   "source": [
    "model.compile(optimizer='adam',\n",
    "              loss=tf.keras.losses.SparseCategoricalCrossentropy(from_logits=False),\n",
    "              metrics=['accuracy'])"
   ]
  },
  {
   "cell_type": "code",
   "execution_count": 38,
   "metadata": {},
   "outputs": [
    {
     "name": "stdout",
     "output_type": "stream",
     "text": [
      "Epoch 1/10\n",
      "1250/1250 [==============================] - 26s 21ms/step - loss: 2.2506 - accuracy: 0.1341 - val_loss: 2.0166 - val_accuracy: 0.2086\n",
      "Epoch 2/10\n",
      "1250/1250 [==============================] - 25s 20ms/step - loss: 2.0020 - accuracy: 0.2091 - val_loss: 1.9229 - val_accuracy: 0.2248\n",
      "Epoch 3/10\n",
      "1250/1250 [==============================] - 25s 20ms/step - loss: 1.9213 - accuracy: 0.2301 - val_loss: 1.8605 - val_accuracy: 0.2886\n",
      "Epoch 4/10\n",
      "1250/1250 [==============================] - 26s 21ms/step - loss: 1.8565 - accuracy: 0.2897 - val_loss: 1.7823 - val_accuracy: 0.3382\n",
      "Epoch 5/10\n",
      "1250/1250 [==============================] - 26s 21ms/step - loss: 1.7581 - accuracy: 0.3462 - val_loss: 1.6818 - val_accuracy: 0.3793\n",
      "Epoch 6/10\n",
      "1250/1250 [==============================] - 26s 21ms/step - loss: 1.6728 - accuracy: 0.3782 - val_loss: 1.6201 - val_accuracy: 0.4078\n",
      "Epoch 7/10\n",
      "1250/1250 [==============================] - 25s 20ms/step - loss: 1.5970 - accuracy: 0.4125 - val_loss: 1.6017 - val_accuracy: 0.4201\n",
      "Epoch 8/10\n",
      "1250/1250 [==============================] - 26s 21ms/step - loss: 1.5372 - accuracy: 0.4358 - val_loss: 1.5067 - val_accuracy: 0.4459\n",
      "Epoch 9/10\n",
      "1250/1250 [==============================] - 26s 20ms/step - loss: 1.4864 - accuracy: 0.4595 - val_loss: 1.4674 - val_accuracy: 0.4673\n",
      "Epoch 10/10\n",
      "1250/1250 [==============================] - 25s 20ms/step - loss: 1.4399 - accuracy: 0.4748 - val_loss: 1.4254 - val_accuracy: 0.4805\n"
     ]
    }
   ],
   "source": [
    "history = model.fit(train_images, train_labels, epochs=10, \n",
    "                    validation_data=(valid_images, valid_labels)) # 5/2020 nt: use validation set"
   ]
  },
  {
   "cell_type": "markdown",
   "metadata": {},
   "source": [
    "Model 3"
   ]
  },
  {
   "cell_type": "code",
   "execution_count": 41,
   "metadata": {},
   "outputs": [],
   "source": [
    "model = models.Sequential()\n",
    "model.add(layers.Conv2D(32, (3, 3), activation='relu', input_shape=(32, 32, 3)))\n",
    "model.add(layers.MaxPooling2D((2, 2)))\n",
    "model.add(layers.Conv2D(64, (3, 3), activation='tanh'))\n",
    "model.add(layers.MaxPooling2D((2, 2)))\n",
    "model.add(layers.Conv2D(64, (3, 3), activation='tanh'))\n",
    "model.add(layers.Flatten())\n",
    "model.add(layers.Dense(64, activation='tanh'))\n",
    "model.add(layers.Dense(10, activation='softmax')) # 5/2020 nt: as noted above"
   ]
  },
  {
   "cell_type": "code",
   "execution_count": 42,
   "metadata": {},
   "outputs": [
    {
     "name": "stdout",
     "output_type": "stream",
     "text": [
      "Model: \"sequential_9\"\n",
      "_________________________________________________________________\n",
      "Layer (type)                 Output Shape              Param #   \n",
      "=================================================================\n",
      "conv2d_27 (Conv2D)           (None, 30, 30, 32)        896       \n",
      "_________________________________________________________________\n",
      "max_pooling2d_18 (MaxPooling (None, 15, 15, 32)        0         \n",
      "_________________________________________________________________\n",
      "conv2d_28 (Conv2D)           (None, 13, 13, 64)        18496     \n",
      "_________________________________________________________________\n",
      "max_pooling2d_19 (MaxPooling (None, 6, 6, 64)          0         \n",
      "_________________________________________________________________\n",
      "conv2d_29 (Conv2D)           (None, 4, 4, 64)          36928     \n",
      "_________________________________________________________________\n",
      "flatten_9 (Flatten)          (None, 1024)              0         \n",
      "_________________________________________________________________\n",
      "dense_18 (Dense)             (None, 64)                65600     \n",
      "_________________________________________________________________\n",
      "dense_19 (Dense)             (None, 10)                650       \n",
      "=================================================================\n",
      "Total params: 122,570\n",
      "Trainable params: 122,570\n",
      "Non-trainable params: 0\n",
      "_________________________________________________________________\n"
     ]
    }
   ],
   "source": [
    "model.summary()"
   ]
  },
  {
   "cell_type": "code",
   "execution_count": 43,
   "metadata": {},
   "outputs": [],
   "source": [
    "model.compile(optimizer='adam',\n",
    "              loss=tf.keras.losses.SparseCategoricalCrossentropy(from_logits=False),\n",
    "              metrics=['accuracy'])"
   ]
  },
  {
   "cell_type": "code",
   "execution_count": 44,
   "metadata": {},
   "outputs": [
    {
     "name": "stdout",
     "output_type": "stream",
     "text": [
      "Epoch 1/10\n",
      "1250/1250 [==============================] - 18s 14ms/step - loss: 1.6565 - accuracy: 0.3967 - val_loss: 1.2189 - val_accuracy: 0.5730\n",
      "Epoch 2/10\n",
      "1250/1250 [==============================] - 17s 14ms/step - loss: 1.2038 - accuracy: 0.5757 - val_loss: 1.1149 - val_accuracy: 0.6029\n",
      "Epoch 3/10\n",
      "1250/1250 [==============================] - 17s 13ms/step - loss: 1.0522 - accuracy: 0.6334 - val_loss: 1.0722 - val_accuracy: 0.6279\n",
      "Epoch 4/10\n",
      "1250/1250 [==============================] - 17s 14ms/step - loss: 0.9724 - accuracy: 0.6670 - val_loss: 1.0582 - val_accuracy: 0.6278\n",
      "Epoch 5/10\n",
      "1250/1250 [==============================] - 17s 14ms/step - loss: 0.8968 - accuracy: 0.6903 - val_loss: 0.9779 - val_accuracy: 0.6641\n",
      "Epoch 6/10\n",
      "1250/1250 [==============================] - 17s 13ms/step - loss: 0.8442 - accuracy: 0.7069 - val_loss: 1.0389 - val_accuracy: 0.6449\n",
      "Epoch 7/10\n",
      "1250/1250 [==============================] - 17s 13ms/step - loss: 0.8060 - accuracy: 0.7227 - val_loss: 0.9948 - val_accuracy: 0.6511\n",
      "Epoch 8/10\n",
      "1250/1250 [==============================] - 16s 13ms/step - loss: 0.7510 - accuracy: 0.7445 - val_loss: 1.0636 - val_accuracy: 0.6319\n",
      "Epoch 9/10\n",
      "1250/1250 [==============================] - 16s 13ms/step - loss: 0.7243 - accuracy: 0.7512 - val_loss: 1.0093 - val_accuracy: 0.6563\n",
      "Epoch 10/10\n",
      "1250/1250 [==============================] - 17s 13ms/step - loss: 0.6705 - accuracy: 0.7696 - val_loss: 1.0163 - val_accuracy: 0.6633\n"
     ]
    }
   ],
   "source": [
    "history = model.fit(train_images, train_labels, epochs=10, \n",
    "                    validation_data=(valid_images, valid_labels)) # 5/2020 nt: use validation set"
   ]
  },
  {
   "cell_type": "markdown",
   "metadata": {},
   "source": [
    "Model 4"
   ]
  },
  {
   "cell_type": "code",
   "execution_count": 48,
   "metadata": {},
   "outputs": [],
   "source": [
    "model = models.Sequential()\n",
    "model.add(layers.Conv2D(32, (2, 2), activation='relu', input_shape=(32, 32, 3)))\n",
    "model.add(layers.MaxPooling2D((3, 3)))\n",
    "model.add(layers.Conv2D(64, (2, 2), activation='relu'))\n",
    "model.add(layers.MaxPooling2D((3, 3)))\n",
    "model.add(layers.Conv2D(64, (2, 2), activation='relu'))\n",
    "model.add(layers.Flatten())\n",
    "model.add(layers.Dense(64, activation='relu'))\n",
    "model.add(layers.Dense(10, activation='softmax')) # 5/2020 nt: as noted above"
   ]
  },
  {
   "cell_type": "code",
   "execution_count": 49,
   "metadata": {},
   "outputs": [],
   "source": [
    "model.compile(optimizer='adam',\n",
    "              loss=tf.keras.losses.SparseCategoricalCrossentropy(from_logits=False),\n",
    "              metrics=['accuracy'])"
   ]
  },
  {
   "cell_type": "code",
   "execution_count": 50,
   "metadata": {},
   "outputs": [
    {
     "name": "stdout",
     "output_type": "stream",
     "text": [
      "Epoch 1/10\n",
      "1250/1250 [==============================] - 10s 8ms/step - loss: 1.8846 - accuracy: 0.3029 - val_loss: 1.3779 - val_accuracy: 0.5035\n",
      "Epoch 2/10\n",
      "1250/1250 [==============================] - 9s 8ms/step - loss: 1.3702 - accuracy: 0.5050 - val_loss: 1.2536 - val_accuracy: 0.5481\n",
      "Epoch 3/10\n",
      "1250/1250 [==============================] - 9s 7ms/step - loss: 1.2056 - accuracy: 0.5718 - val_loss: 1.1288 - val_accuracy: 0.5997\n",
      "Epoch 4/10\n",
      "1250/1250 [==============================] - 9s 7ms/step - loss: 1.1050 - accuracy: 0.6084 - val_loss: 1.0512 - val_accuracy: 0.6291\n",
      "Epoch 5/10\n",
      "1250/1250 [==============================] - 10s 8ms/step - loss: 1.0319 - accuracy: 0.6355 - val_loss: 1.0487 - val_accuracy: 0.6274\n",
      "Epoch 6/10\n",
      "1250/1250 [==============================] - 10s 8ms/step - loss: 0.9704 - accuracy: 0.6584 - val_loss: 0.9488 - val_accuracy: 0.6695\n",
      "Epoch 7/10\n",
      "1250/1250 [==============================] - 10s 8ms/step - loss: 0.9164 - accuracy: 0.6813 - val_loss: 0.9935 - val_accuracy: 0.6528\n",
      "Epoch 8/10\n",
      "1250/1250 [==============================] - 10s 8ms/step - loss: 0.8855 - accuracy: 0.6912 - val_loss: 0.9208 - val_accuracy: 0.6784\n",
      "Epoch 9/10\n",
      "1250/1250 [==============================] - 10s 8ms/step - loss: 0.8372 - accuracy: 0.7059 - val_loss: 0.9266 - val_accuracy: 0.6725\n",
      "Epoch 10/10\n",
      "1250/1250 [==============================] - 10s 8ms/step - loss: 0.8144 - accuracy: 0.7135 - val_loss: 0.8817 - val_accuracy: 0.6893\n"
     ]
    }
   ],
   "source": [
    "history = model.fit(train_images, train_labels, epochs=10, \n",
    "                    validation_data=(valid_images, valid_labels)) # 5/2020 nt: use validation set"
   ]
  },
  {
   "cell_type": "markdown",
   "metadata": {},
   "source": [
    "Model 5"
   ]
  },
  {
   "cell_type": "code",
   "execution_count": 52,
   "metadata": {},
   "outputs": [],
   "source": [
    "model = models.Sequential()\n",
    "model.add(layers.Conv2D(32, (3, 3), activation='relu', input_shape=(32, 32, 3)))\n",
    "model.add(layers.MaxPooling2D((2, 2)))\n",
    "model.add(layers.Conv2D(64, (3, 3), activation='relu'))\n",
    "model.add(layers.MaxPooling2D((2, 2)))\n",
    "model.add(layers.Conv2D(64, (3, 3), activation='relu'))\n",
    "model.add(layers.Conv2D(32, (2, 2), activation='relu'))\n",
    "model.add(layers.Flatten())\n",
    "model.add(layers.Dense(64, activation='relu'))\n",
    "model.add(layers.Dense(10, activation='softmax')) # 5/2020 nt: as noted above"
   ]
  },
  {
   "cell_type": "code",
   "execution_count": 54,
   "metadata": {},
   "outputs": [],
   "source": [
    "model.compile(optimizer='adam',\n",
    "              loss=tf.keras.losses.SparseCategoricalCrossentropy(from_logits=False),\n",
    "              metrics=['accuracy'])"
   ]
  },
  {
   "cell_type": "code",
   "execution_count": 55,
   "metadata": {},
   "outputs": [
    {
     "name": "stdout",
     "output_type": "stream",
     "text": [
      "Epoch 1/10\n",
      "1250/1250 [==============================] - 18s 14ms/step - loss: 1.8529 - accuracy: 0.3054 - val_loss: 1.3562 - val_accuracy: 0.5142\n",
      "Epoch 2/10\n",
      "1250/1250 [==============================] - 17s 13ms/step - loss: 1.3249 - accuracy: 0.5214 - val_loss: 1.2820 - val_accuracy: 0.5337\n",
      "Epoch 3/10\n",
      "1250/1250 [==============================] - 17s 14ms/step - loss: 1.1524 - accuracy: 0.5903 - val_loss: 1.1408 - val_accuracy: 0.5929\n",
      "Epoch 4/10\n",
      "1250/1250 [==============================] - 17s 14ms/step - loss: 1.0332 - accuracy: 0.6314 - val_loss: 1.0534 - val_accuracy: 0.6223\n",
      "Epoch 5/10\n",
      "1250/1250 [==============================] - 17s 14ms/step - loss: 0.9561 - accuracy: 0.6642 - val_loss: 1.0712 - val_accuracy: 0.6311\n",
      "Epoch 6/10\n",
      "1250/1250 [==============================] - 18s 14ms/step - loss: 0.8825 - accuracy: 0.6883 - val_loss: 0.9513 - val_accuracy: 0.6695\n",
      "Epoch 7/10\n",
      "1250/1250 [==============================] - 18s 14ms/step - loss: 0.8253 - accuracy: 0.7120 - val_loss: 0.9596 - val_accuracy: 0.6737\n",
      "Epoch 8/10\n",
      "1250/1250 [==============================] - 18s 14ms/step - loss: 0.7704 - accuracy: 0.7284 - val_loss: 0.9288 - val_accuracy: 0.6787\n",
      "Epoch 9/10\n",
      "1250/1250 [==============================] - 18s 14ms/step - loss: 0.7338 - accuracy: 0.7421 - val_loss: 0.9542 - val_accuracy: 0.6724\n",
      "Epoch 10/10\n",
      "1250/1250 [==============================] - 18s 15ms/step - loss: 0.6981 - accuracy: 0.7507 - val_loss: 0.9186 - val_accuracy: 0.6867\n"
     ]
    }
   ],
   "source": [
    "history = model.fit(train_images, train_labels, epochs=10, \n",
    "                    validation_data=(valid_images, valid_labels)) # 5/2020 nt: use validation set"
   ]
  },
  {
   "cell_type": "markdown",
   "metadata": {},
   "source": [
    "Model 6"
   ]
  },
  {
   "cell_type": "code",
   "execution_count": 56,
   "metadata": {},
   "outputs": [],
   "source": [
    "model = models.Sequential()\n",
    "model.add(layers.Conv2D(64, (3, 3), activation='relu', input_shape=(32, 32, 3)))\n",
    "model.add(layers.MaxPooling2D((2, 2)))\n",
    "model.add(layers.Conv2D(68, (3, 3), activation='tanh'))\n",
    "model.add(layers.MaxPooling2D((2, 2)))\n",
    "model.add(layers.Conv2D(72, (3, 3), activation='tanh'))\n",
    "model.add(layers.Conv2D(32, (2, 2), activation='tanh'))\n",
    "model.add(layers.Flatten())\n",
    "model.add(layers.Dense(86, activation='relu'))\n",
    "model.add(layers.Dense(86, activation='relu'))\n",
    "model.add(layers.Dense(10, activation='softmax')) # 5/2020 nt: as noted above"
   ]
  },
  {
   "cell_type": "code",
   "execution_count": 57,
   "metadata": {},
   "outputs": [],
   "source": [
    "model.compile(optimizer='adam',\n",
    "              loss=tf.keras.losses.SparseCategoricalCrossentropy(from_logits=False),\n",
    "              metrics=['accuracy'])"
   ]
  },
  {
   "cell_type": "code",
   "execution_count": 58,
   "metadata": {},
   "outputs": [
    {
     "name": "stdout",
     "output_type": "stream",
     "text": [
      "Epoch 1/10\n",
      "1250/1250 [==============================] - 33s 26ms/step - loss: 1.7660 - accuracy: 0.3459 - val_loss: 1.2483 - val_accuracy: 0.5535\n",
      "Epoch 2/10\n",
      "1250/1250 [==============================] - 33s 26ms/step - loss: 1.2364 - accuracy: 0.5625 - val_loss: 1.1354 - val_accuracy: 0.5928\n",
      "Epoch 3/10\n",
      "1250/1250 [==============================] - 33s 26ms/step - loss: 1.0711 - accuracy: 0.6210 - val_loss: 1.0429 - val_accuracy: 0.6309\n",
      "Epoch 4/10\n",
      "1250/1250 [==============================] - 33s 26ms/step - loss: 0.9693 - accuracy: 0.6595 - val_loss: 0.9562 - val_accuracy: 0.6670\n",
      "Epoch 5/10\n",
      "1250/1250 [==============================] - 33s 26ms/step - loss: 0.8758 - accuracy: 0.6900 - val_loss: 0.9641 - val_accuracy: 0.6623\n",
      "Epoch 6/10\n",
      "1250/1250 [==============================] - 33s 26ms/step - loss: 0.8206 - accuracy: 0.7090 - val_loss: 0.9635 - val_accuracy: 0.6613\n",
      "Epoch 7/10\n",
      "1250/1250 [==============================] - 33s 27ms/step - loss: 0.7533 - accuracy: 0.7345 - val_loss: 0.9733 - val_accuracy: 0.6650\n",
      "Epoch 8/10\n",
      "1250/1250 [==============================] - 33s 26ms/step - loss: 0.7069 - accuracy: 0.7532 - val_loss: 0.9793 - val_accuracy: 0.6695\n",
      "Epoch 9/10\n",
      "1250/1250 [==============================] - 33s 26ms/step - loss: 0.6655 - accuracy: 0.7661 - val_loss: 0.9170 - val_accuracy: 0.6850\n",
      "Epoch 10/10\n",
      "1250/1250 [==============================] - 33s 27ms/step - loss: 0.6127 - accuracy: 0.7825 - val_loss: 0.9824 - val_accuracy: 0.6755\n"
     ]
    },
    {
     "data": {
      "text/plain": [
       "<tensorflow.python.keras.callbacks.History at 0x7fe1e19326d0>"
      ]
     },
     "execution_count": 58,
     "metadata": {},
     "output_type": "execute_result"
    }
   ],
   "source": [
    "model.fit(train_images, train_labels, epochs=10, \n",
    "                    validation_data=(valid_images, valid_labels)) # 5/2020 nt: use validation set"
   ]
  },
  {
   "cell_type": "markdown",
   "metadata": {},
   "source": [
    "Model 7"
   ]
  },
  {
   "cell_type": "code",
   "execution_count": 61,
   "metadata": {},
   "outputs": [],
   "source": [
    "model = models.Sequential()\n",
    "model.add(layers.Conv2D(32, (3, 3), activation='relu', input_shape=(32, 32, 3)))\n",
    "model.add(layers.MaxPooling2D((2, 2)))\n",
    "model.add(layers.Conv2D(64, (3, 3), activation='relu'))\n",
    "model.add(layers.Flatten())\n",
    "model.add(layers.Dense(64, activation='relu'))\n",
    "model.add(layers.Dense(10, activation='softmax')) # 5/2020 nt: as noted above"
   ]
  },
  {
   "cell_type": "code",
   "execution_count": 62,
   "metadata": {},
   "outputs": [],
   "source": [
    "model.compile(optimizer='adam',\n",
    "              loss=tf.keras.losses.SparseCategoricalCrossentropy(from_logits=False),\n",
    "              metrics=['accuracy'])"
   ]
  },
  {
   "cell_type": "code",
   "execution_count": 63,
   "metadata": {},
   "outputs": [
    {
     "name": "stdout",
     "output_type": "stream",
     "text": [
      "Epoch 1/10\n",
      "1250/1250 [==============================] - 17s 13ms/step - loss: 1.6819 - accuracy: 0.3928 - val_loss: 1.1861 - val_accuracy: 0.5825\n",
      "Epoch 2/10\n",
      "1250/1250 [==============================] - 17s 13ms/step - loss: 1.1055 - accuracy: 0.6135 - val_loss: 1.0123 - val_accuracy: 0.6509\n",
      "Epoch 3/10\n",
      "1250/1250 [==============================] - 17s 14ms/step - loss: 0.8946 - accuracy: 0.6896 - val_loss: 0.9539 - val_accuracy: 0.6664\n",
      "Epoch 4/10\n",
      "1250/1250 [==============================] - 17s 14ms/step - loss: 0.7760 - accuracy: 0.7319 - val_loss: 0.9576 - val_accuracy: 0.6752\n",
      "Epoch 5/10\n",
      "1250/1250 [==============================] - 17s 14ms/step - loss: 0.6728 - accuracy: 0.7625 - val_loss: 0.9603 - val_accuracy: 0.6724\n",
      "Epoch 6/10\n",
      "1250/1250 [==============================] - 17s 14ms/step - loss: 0.5781 - accuracy: 0.7991 - val_loss: 0.9737 - val_accuracy: 0.6878\n",
      "Epoch 7/10\n",
      "1250/1250 [==============================] - 17s 14ms/step - loss: 0.4806 - accuracy: 0.8328 - val_loss: 1.0411 - val_accuracy: 0.6786\n",
      "Epoch 8/10\n",
      "1250/1250 [==============================] - 17s 14ms/step - loss: 0.4011 - accuracy: 0.8608 - val_loss: 1.0748 - val_accuracy: 0.6861\n",
      "Epoch 9/10\n",
      "1250/1250 [==============================] - 17s 14ms/step - loss: 0.3391 - accuracy: 0.8835 - val_loss: 1.1844 - val_accuracy: 0.6699\n",
      "Epoch 10/10\n",
      "1250/1250 [==============================] - 17s 14ms/step - loss: 0.2786 - accuracy: 0.9042 - val_loss: 1.4059 - val_accuracy: 0.6510\n"
     ]
    },
    {
     "data": {
      "text/plain": [
       "<tensorflow.python.keras.callbacks.History at 0x7fe2730fc940>"
      ]
     },
     "execution_count": 63,
     "metadata": {},
     "output_type": "execute_result"
    }
   ],
   "source": [
    "model.fit(train_images, train_labels, epochs=10, \n",
    "                    validation_data=(valid_images, valid_labels)) # 5/2020 nt: use validation set"
   ]
  },
  {
   "cell_type": "markdown",
   "metadata": {},
   "source": [
    "Model 8"
   ]
  },
  {
   "cell_type": "code",
   "execution_count": 69,
   "metadata": {},
   "outputs": [],
   "source": [
    "model = models.Sequential()\n",
    "model.add(layers.Conv2D(32, (3, 3), activation='relu', input_shape=(32, 32, 3)))\n",
    "model.add(layers.MaxPooling2D((2, 2)))\n",
    "model.add(layers.Conv2D(64, (3, 3), activation='softmax'))\n",
    "model.add(layers.Flatten())\n",
    "model.add(layers.Dense(64, activation='tanh'))\n",
    "model.add(layers.Dense(10, activation='softmax')) # 5/2020 nt: as noted above"
   ]
  },
  {
   "cell_type": "code",
   "execution_count": 70,
   "metadata": {},
   "outputs": [],
   "source": [
    "model.compile(optimizer='adam',\n",
    "              loss=tf.keras.losses.SparseCategoricalCrossentropy(from_logits=False),\n",
    "              metrics=['accuracy'])"
   ]
  },
  {
   "cell_type": "code",
   "execution_count": 71,
   "metadata": {},
   "outputs": [
    {
     "name": "stdout",
     "output_type": "stream",
     "text": [
      "Epoch 1/10\n",
      "1250/1250 [==============================] - 26s 20ms/step - loss: 1.9206 - accuracy: 0.2919 - val_loss: 1.4604 - val_accuracy: 0.4727\n",
      "Epoch 2/10\n",
      "1250/1250 [==============================] - 25s 20ms/step - loss: 1.3831 - accuracy: 0.5038 - val_loss: 1.2668 - val_accuracy: 0.5498\n",
      "Epoch 3/10\n",
      "1250/1250 [==============================] - 25s 20ms/step - loss: 1.2112 - accuracy: 0.5676 - val_loss: 1.1785 - val_accuracy: 0.5821\n",
      "Epoch 4/10\n",
      "1250/1250 [==============================] - 26s 21ms/step - loss: 1.0964 - accuracy: 0.6103 - val_loss: 1.1272 - val_accuracy: 0.5984\n",
      "Epoch 5/10\n",
      "1250/1250 [==============================] - 25s 20ms/step - loss: 0.9751 - accuracy: 0.6563 - val_loss: 1.0627 - val_accuracy: 0.6281\n",
      "Epoch 6/10\n",
      "1250/1250 [==============================] - 25s 20ms/step - loss: 0.8665 - accuracy: 0.6998 - val_loss: 1.0344 - val_accuracy: 0.6370\n",
      "Epoch 7/10\n",
      "1250/1250 [==============================] - 25s 20ms/step - loss: 0.7720 - accuracy: 0.7316 - val_loss: 1.0356 - val_accuracy: 0.6444\n",
      "Epoch 8/10\n",
      "1250/1250 [==============================] - 26s 20ms/step - loss: 0.6725 - accuracy: 0.7681 - val_loss: 1.0488 - val_accuracy: 0.6485\n",
      "Epoch 9/10\n",
      "1250/1250 [==============================] - 25s 20ms/step - loss: 0.5724 - accuracy: 0.8081 - val_loss: 1.1044 - val_accuracy: 0.6369\n",
      "Epoch 10/10\n",
      "1250/1250 [==============================] - 26s 21ms/step - loss: 0.4594 - accuracy: 0.8526 - val_loss: 1.1298 - val_accuracy: 0.6431\n"
     ]
    },
    {
     "data": {
      "text/plain": [
       "<tensorflow.python.keras.callbacks.History at 0x7fe1a49e2c40>"
      ]
     },
     "execution_count": 71,
     "metadata": {},
     "output_type": "execute_result"
    }
   ],
   "source": [
    "model.fit(train_images, train_labels, epochs=10, \n",
    "                    validation_data=(valid_images, valid_labels)) # 5/2020 nt: use validation set"
   ]
  },
  {
   "cell_type": "code",
   "execution_count": null,
   "metadata": {},
   "outputs": [],
   "source": [
    "\n",
    "\n"
   ]
  }
 ],
 "metadata": {
  "kernelspec": {
   "display_name": "Python 3",
   "language": "python",
   "name": "python3"
  },
  "language_info": {
   "codemirror_mode": {
    "name": "ipython",
    "version": 3
   },
   "file_extension": ".py",
   "mimetype": "text/x-python",
   "name": "python",
   "nbconvert_exporter": "python",
   "pygments_lexer": "ipython3",
   "version": "3.8.3"
  }
 },
 "nbformat": 4,
 "nbformat_minor": 4
}
